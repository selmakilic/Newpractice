{
 "cells": [
  {
   "cell_type": "code",
   "execution_count": null,
   "metadata": {},
   "outputs": [],
   "source": [
    "#new practice 07/18/2023 eklenti push dosyasi yapilacak!\n",
    "print(\"new_practice 07/18/2023 push github ekleme denemesi yapilacak!\")\n",
    "\n",
    "#new_practice versiyon 2 deneme yapilyor \n",
    "print(\"versiyon_2 07/18/2023 \")\n",
    "\n",
    "#new_practice versiyon 3 deneme yapilyor \n",
    "print(\"versiyon_3 07/18/2023 \")\n",
    "\n"
   ]
  }
 ],
 "metadata": {
  "language_info": {
   "name": "python"
  },
  "orig_nbformat": 4
 },
 "nbformat": 4,
 "nbformat_minor": 2
}
